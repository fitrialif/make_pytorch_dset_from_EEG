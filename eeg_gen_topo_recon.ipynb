{
 "cells": [
  {
   "cell_type": "code",
   "execution_count": 368,
   "metadata": {
    "scrolled": true
   },
   "outputs": [],
   "source": [
    "import scipy.io\n",
    "import numpy as np\n",
    "import math as m\n",
    "import eeglearn\n",
    "\n",
    "from scipy.interpolate import griddata\n",
    "from sklearn.preprocessing import scale\n",
    "from eeglearn.utils import augment_EEG, cart2sph, pol2cart"
   ]
  },
  {
   "cell_type": "code",
   "execution_count": 369,
   "metadata": {},
   "outputs": [],
   "source": [
    "def gen_images(locs, features, n_gridpoints, normalize=True,\n",
    "               augment=False, pca=False, std_mult=0.1, n_components=2, edgeless=False):\n",
    "    \"\"\"\n",
    "    Generates EEG images given electrode locations in 2D space and multiple feature values for each electrode\n",
    "\n",
    "    :param locs: An array with shape [n_electrodes, 2] containing X, Y\n",
    "                        coordinates for each electrode.\n",
    "    :param features: Feature matrix as [n_samples, n_features]\n",
    "                                Features are as columns.\n",
    "                                Features corresponding to each frequency band are concatenated.\n",
    "                                (alpha1, alpha2, ..., beta1, beta2,...)\n",
    "    :param n_gridpoints: Number of pixels in the output images\n",
    "    :param normalize:   Flag for whether to normalize each band over all samples\n",
    "    :param augment:     Flag for generating augmented images\n",
    "    :param pca:         Flag for PCA based data augmentation\n",
    "    :param std_mult     Multiplier for std of added noise\n",
    "    :param n_components: Number of components in PCA to retain for augmentation\n",
    "    :param edgeless:    If True generates edgeless images by adding artificial channels\n",
    "                        at four corners of the image with value = 0 (default=False).\n",
    "    :return:            Tensor of size [samples, colors, W, H] containing generated\n",
    "                        images.\n",
    "    \"\"\"\n",
    "    feat_array_temp = []\n",
    "    nElectrodes = locs.shape[0]     # Number of electrodes\n",
    "    \n",
    "    # Test whether the feature vector length is divisible by number of electrodes\n",
    "    assert features.shape[1] % nElectrodes == 0\n",
    "    n_colors = int(features.shape[1] / nElectrodes)\n",
    "    for c in range(n_colors):\n",
    "        feat_array_temp.append(features[:, c * nElectrodes : nElectrodes * (c+1)])\n",
    "    if augment:\n",
    "        if pca:\n",
    "            for c in range(n_colors):\n",
    "                feat_array_temp[c] = augment_EEG(feat_array_temp[c], std_mult, pca=True, n_components=n_components)\n",
    "        else:\n",
    "            for c in range(n_colors):\n",
    "                feat_array_temp[c] = augment_EEG(feat_array_temp[c], std_mult, pca=False, n_components=n_components)\n",
    "    nSamples = features.shape[0]\n",
    "    \n",
    "    # Interpolate the values\n",
    "    grid_x, grid_y = np.mgrid[\n",
    "                     min(locs[:, 0]):max(locs[:, 0]):n_gridpoints*1j,\n",
    "                     min(locs[:, 1]):max(locs[:, 1]):n_gridpoints*1j\n",
    "                     ]\n",
    "    temp_interp = []\n",
    "    for c in range(n_colors):\n",
    "        temp_interp.append(np.zeros([nSamples, n_gridpoints, n_gridpoints]))\n",
    "        \n",
    "    # Generate edgeless images\n",
    "    if edgeless:\n",
    "        min_x, min_y = np.min(locs, axis=0)\n",
    "        max_x, max_y = np.max(locs, axis=0)\n",
    "        locs = np.append(locs, np.array([[min_x, min_y], [min_x, max_y],[max_x, min_y],[max_x, max_y]]),axis=0)\n",
    "        for c in range(n_colors):\n",
    "            feat_array_temp[c] = np.append(feat_array_temp[c], np.zeros((nSamples, 4)), axis=1)\n",
    "            \n",
    "    # Interpolating\n",
    "    for i in range(nSamples):\n",
    "        for c in range(n_colors):\n",
    "            temp_interp[c][i, :, :] = griddata(locs, feat_array_temp[c][i, :], (grid_x, grid_y),\n",
    "                                    method='cubic', fill_value=np.nan)\n",
    "        print('Interpolating {0}/{1}\\r'.format(i+1, nSamples), end='\\r')\n",
    "        \n",
    "    # Normalizing\n",
    "    for c in range(n_colors):\n",
    "        if normalize:\n",
    "            temp_interp[c][~np.isnan(temp_interp[c])] = scale(temp_interp[c][~np.isnan(temp_interp[c])])\n",
    "        #temp_interp[c] = np.nan_to_num(temp_interp[c])\n",
    "\n",
    "    # swap axes to have [samples, colors, W, H]\n",
    "    return np.swapaxes(np.asarray(temp_interp), 0, 1)     "
   ]
  },
  {
   "cell_type": "code",
   "execution_count": 370,
   "metadata": {},
   "outputs": [
    {
     "name": "stdout",
     "output_type": "stream",
     "text": [
      "Loading data...\n"
     ]
    }
   ],
   "source": [
    "def azim_proj(pos):\n",
    "    \"\"\"\n",
    "    Computes the Azimuthal Equidistant Projection of input point in 3D Cartesian Coordinates.\n",
    "    Imagine a plane being placed against (tangent to) a globe. If\n",
    "    a light source inside the globe projects the graticule onto\n",
    "    the plane the result would be a planar, or azimuthal, map\n",
    "    projection.\n",
    "    :param pos: position in 3D Cartesian coordinates\n",
    "    :return: projected coordinates using Azimuthal Equidistant Projection\n",
    "    \"\"\"\n",
    "    [r, elev, az] = cart2sph(pos[0], pos[1], pos[2])\n",
    "    return pol2cart(az, m.pi / 2 - elev)\n",
    "\n",
    "    \n",
    "# Load electrode locations\n",
    "print('Loading data...')\n",
    "locs = scipy.io.loadmat('C:/Users/UNIST/.jupyter/EEGLearn/Sample data/Neuroscan_locs_orig.mat')\n",
    "locs_3d = locs['A']\n",
    "locs_2d = []\n",
    "# Convert to 2D\n",
    "for e in locs_3d:\n",
    "    locs_2d.append(azim_proj(e))"
   ]
  },
  {
   "cell_type": "code",
   "execution_count": 371,
   "metadata": {},
   "outputs": [],
   "source": [
    "feats = scipy.io.loadmat('./EEGLearn/Sample data/FeatureMat_timeWin.mat')['features']\n",
    "subj_nums = np.squeeze(scipy.io.loadmat('./EEGLearn/Sample data/trials_subNums.mat')['subjectNum'])"
   ]
  },
  {
   "cell_type": "code",
   "execution_count": 372,
   "metadata": {},
   "outputs": [],
   "source": [
    "# Leave-Subject-Out cross validation\n",
    "fold_pairs = []\n",
    "\n",
    "for i in np.unique(subj_nums):\n",
    "    ts = subj_nums == i\n",
    "    tr = np.squeeze(np.nonzero(np.bitwise_not(ts)))\n",
    "    ts = np.squeeze(np.nonzero(ts))\n",
    "    np.random.shuffle(tr)  # Shuffle indices\n",
    "    np.random.shuffle(ts)\n",
    "    fold_pairs.append((tr, ts))"
   ]
  },
  {
   "cell_type": "code",
   "execution_count": 373,
   "metadata": {},
   "outputs": [
    {
     "data": {
      "text/plain": [
       "(2670, 1345)"
      ]
     },
     "execution_count": 373,
     "metadata": {},
     "output_type": "execute_result"
    }
   ],
   "source": [
    "feats.shape"
   ]
  },
  {
   "cell_type": "code",
   "execution_count": 571,
   "metadata": {
    "scrolled": true
   },
   "outputs": [
    {
     "name": "stdout",
     "output_type": "stream",
     "text": [
      "Generating images...\n",
      "Interpolating 2670/2670terpolating 46/2670Interpolating 71/2670Interpolating 96/2670Interpolating 122/2670Interpolating 145/2670Interpolating 169/2670Interpolating 194/2670Interpolating 220/2670Interpolating 247/2670Interpolating 271/2670Interpolating 297/2670Interpolating 321/2670Interpolating 345/2670Interpolating 370/2670Interpolating 393/2670Interpolating 417/2670Interpolating 441/2670Interpolating 467/2670Interpolating 494/2670Interpolating 519/2670Interpolating 544/2670Interpolating 570/2670Interpolating 595/2670Interpolating 621/2670Interpolating 647/2670Interpolating 673/2670Interpolating 695/2670Interpolating 719/2670Interpolating 746/2670Interpolating 771/2670Interpolating 796/2670Interpolating 819/2670Interpolating 845/2670Interpolating 871/2670Interpolating 897/2670Interpolating 923/2670Interpolating 949/2670Interpolating 972/2670Interpolating 998/2670Interpolating 1024/2670Interpolating 1051/2670Interpolating 1077/2670Interpolating 1101/2670Interpolating 1125/2670Interpolating 1148/2670Interpolating 1172/2670Interpolating 1196/2670Interpolating 1221/2670Interpolating 1245/2670Interpolating 1271/2670Interpolating 1295/2670Interpolating 1321/2670Interpolating 1346/2670Interpolating 1371/2670Interpolating 1398/2670Interpolating 1424/2670Interpolating 1451/2670Interpolating 1475/2670Interpolating 1501/2670Interpolating 1526/2670Interpolating 1551/2670Interpolating 1576/2670Interpolating 1600/2670Interpolating 1623/2670Interpolating 1645/2670Interpolating 1667/2670Interpolating 1692/2670Interpolating 1717/2670Interpolating 1742/2670Interpolating 1767/2670Interpolating 1790/2670Interpolating 1817/2670Interpolating 1842/2670Interpolating 1868/2670Interpolating 1895/2670Interpolating 1918/2670Interpolating 1942/2670Interpolating 1963/2670Interpolating 1987/2670Interpolating 2011/2670Interpolating 2034/2670Interpolating 2058/2670Interpolating 2083/2670Interpolating 2108/2670Interpolating 2135/2670Interpolating 2160/2670Interpolating 2186/2670Interpolating 2212/2670Interpolating 2239/2670Interpolating 2265/2670Interpolating 2289/2670Interpolating 2314/2670Interpolating 2339/2670Interpolating 2362/2670Interpolating 2386/2670Interpolating 2411/2670Interpolating 2437/2670Interpolating 2460/2670Interpolating 2484/2670Interpolating 2510/2670Interpolating 2536/2670Interpolating 2562/2670Interpolating 2585/2670Interpolating 2608/2670Interpolating 2633/2670Interpolating 2659/2670\n",
      "\n"
     ]
    }
   ],
   "source": [
    "from functools import reduce\n",
    "    \n",
    "# CNN Mode\n",
    "print('Generating images...')\n",
    "# Find the average response over time windows\n",
    "av_feats = reduce(lambda x, y: x+y, [feats[:, i*192:(i+1)*192] for i in range(int((feats.shape[1]) / 192))])\n",
    "av_feats = av_feats / ((feats.shape[1]-1) / 192)\n",
    "images = gen_images(np.array(locs_2d),\n",
    "                              av_feats,\n",
    "                              20, normalize=True)\n",
    "print('\\n')"
   ]
  },
  {
   "cell_type": "code",
   "execution_count": 572,
   "metadata": {},
   "outputs": [],
   "source": [
    "def NanMinMaxScaler(X):\n",
    "    a = X.shape[1]\n",
    "    \n",
    "    if X.ndim > 1:\n",
    "        X = X.flatten()\n",
    "        \n",
    "    X_nanstd = (X - np.nanmin(X, axis=0)) / (np.nanmax(X, axis=0) - np.nanmin(X, axis=0))\n",
    "    X_nanScaled = X_nanstd * (1 - 0) + 0\n",
    "    \n",
    "    X_nanScaled = X_nanScaled.reshape(a, -1)\n",
    "    \n",
    "    return X_nanScaled"
   ]
  },
  {
   "cell_type": "code",
   "execution_count": 573,
   "metadata": {
    "scrolled": false
   },
   "outputs": [
    {
     "name": "stdout",
     "output_type": "stream",
     "text": [
      "(2670, 3, 20, 20)\n"
     ]
    },
    {
     "data": {
      "image/png": "[encoded data removed]",
      "text/plain": [
       "<matplotlib.figure.Figure at 0x14ea549bdd8>"
      ]
     },
     "metadata": {},
     "output_type": "display_data"
    }
   ],
   "source": [
    "print(images.shape)\n",
    "\n",
    "import matplotlib.pyplot as plt\n",
    "from sklearn.preprocessing import MinMaxScaler\n",
    "from matplotlib.colors import Normalize\n",
    "\n",
    "#num_dat = np.random.randint(2000)\n",
    "num_dat = 1\n",
    "img = np.copy(images[num_dat])\n",
    "img = img.swapaxes(1,2) # X & Y axes flip\n",
    "\n",
    "# theta\n",
    "plt.subplot(141)\n",
    "plt.imshow(img[0], cmap='Reds')\n",
    "plt.gca().invert_yaxis() # Y axis invert\n",
    "plt.title('theta')\n",
    "plt.axis('off')\n",
    "\n",
    "# alpha\n",
    "plt.subplot(142)      \n",
    "plt.imshow(img[1], cmap='Greens')\n",
    "plt.gca().invert_yaxis()\n",
    "plt.title('alpha')\n",
    "plt.axis('off')\n",
    "\n",
    "# beta\n",
    "plt.subplot(143)\n",
    "plt.imshow(img[2], cmap='Blues')\n",
    "plt.gca().invert_yaxis()\n",
    "plt.title('beta')\n",
    "plt.axis('off')\n",
    "\n",
    "\n",
    "# overall\n",
    "# norm (~RGB 각각)\n",
    "for c in range(3):\n",
    "    img[c] = NanMinMaxScaler(img[c])    \n",
    "\n",
    "#nan to zero\n",
    "img = np.nan_to_num(img)\n",
    "\n",
    "plt.subplot(144)\n",
    "img = np.transpose(img, [1,2,0])\n",
    "plt.imshow(img)\n",
    "plt.gca().invert_yaxis() # Y axis invert\n",
    "plt.title('overall')\n",
    "plt.axis('off')\n",
    "\n",
    "plt.savefig('./eeg_gen_topo/' + str(num_dat) + '.png')"
   ]
  }
 ],
 "metadata": {
  "kernelspec": {
   "display_name": "Python 3",
   "language": "python",
   "name": "python3"
  },
  "language_info": {
   "codemirror_mode": {
    "name": "ipython",
    "version": 3
   },
   "file_extension": ".py",
   "mimetype": "text/x-python",
   "name": "python",
   "nbconvert_exporter": "python",
   "pygments_lexer": "ipython3",
   "version": "3.6.3"
  }
 },
 "nbformat": 4,
 "nbformat_minor": 2
}
